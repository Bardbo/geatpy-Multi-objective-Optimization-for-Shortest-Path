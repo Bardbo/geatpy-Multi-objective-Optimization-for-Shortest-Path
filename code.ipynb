{
 "cells": [
  {
   "cell_type": "code",
   "execution_count": 1,
   "metadata": {},
   "outputs": [],
   "source": [
    "import numpy as np\n",
    "import geatpy as ea\n",
    "import pandas as pd\n",
    "import networkx as nx\n",
    "import copy"
   ]
  },
  {
   "cell_type": "code",
   "execution_count": 2,
   "metadata": {},
   "outputs": [
    {
     "data": {
      "text/plain": [
       "'2.6.0'"
      ]
     },
     "execution_count": 2,
     "metadata": {},
     "output_type": "execute_result"
    }
   ],
   "source": [
    "ea.__version__"
   ]
  },
  {
   "cell_type": "code",
   "execution_count": 3,
   "metadata": {},
   "outputs": [],
   "source": [
    "data = pd.read_excel('data.xlsx')"
   ]
  },
  {
   "cell_type": "code",
   "execution_count": 4,
   "metadata": {},
   "outputs": [
    {
     "data": {
      "text/html": [
       "<div>\n",
       "<style scoped>\n",
       "    .dataframe tbody tr th:only-of-type {\n",
       "        vertical-align: middle;\n",
       "    }\n",
       "\n",
       "    .dataframe tbody tr th {\n",
       "        vertical-align: top;\n",
       "    }\n",
       "\n",
       "    .dataframe thead th {\n",
       "        text-align: right;\n",
       "    }\n",
       "</style>\n",
       "<table border=\"1\" class=\"dataframe\">\n",
       "  <thead>\n",
       "    <tr style=\"text-align: right;\">\n",
       "      <th></th>\n",
       "      <th>端点1</th>\n",
       "      <th>端点2</th>\n",
       "      <th>风险值</th>\n",
       "      <th>阻抗值</th>\n",
       "    </tr>\n",
       "  </thead>\n",
       "  <tbody>\n",
       "    <tr>\n",
       "      <th>0</th>\n",
       "      <td>1</td>\n",
       "      <td>2</td>\n",
       "      <td>9</td>\n",
       "      <td>36</td>\n",
       "    </tr>\n",
       "    <tr>\n",
       "      <th>1</th>\n",
       "      <td>1</td>\n",
       "      <td>3</td>\n",
       "      <td>6</td>\n",
       "      <td>27</td>\n",
       "    </tr>\n",
       "    <tr>\n",
       "      <th>2</th>\n",
       "      <td>2</td>\n",
       "      <td>3</td>\n",
       "      <td>7</td>\n",
       "      <td>13</td>\n",
       "    </tr>\n",
       "    <tr>\n",
       "      <th>3</th>\n",
       "      <td>2</td>\n",
       "      <td>4</td>\n",
       "      <td>7</td>\n",
       "      <td>18</td>\n",
       "    </tr>\n",
       "    <tr>\n",
       "      <th>4</th>\n",
       "      <td>2</td>\n",
       "      <td>5</td>\n",
       "      <td>9</td>\n",
       "      <td>20</td>\n",
       "    </tr>\n",
       "  </tbody>\n",
       "</table>\n",
       "</div>"
      ],
      "text/plain": [
       "   端点1  端点2  风险值  阻抗值\n",
       "0    1    2    9   36\n",
       "1    1    3    6   27\n",
       "2    2    3    7   13\n",
       "3    2    4    7   18\n",
       "4    2    5    9   20"
      ]
     },
     "execution_count": 4,
     "metadata": {},
     "output_type": "execute_result"
    }
   ],
   "source": [
    "data.head()"
   ]
  },
  {
   "cell_type": "code",
   "execution_count": 5,
   "metadata": {},
   "outputs": [],
   "source": [
    "g = nx.Graph()\n",
    "g.add_edges_from([(i,j) for i,j in zip(data['端点1'], data['端点2'])])"
   ]
  },
  {
   "cell_type": "code",
   "execution_count": 6,
   "metadata": {},
   "outputs": [
    {
     "data": {
      "image/png": "[encoded data removed]",
      "text/plain": [
       "<Figure size 432x288 with 1 Axes>"
      ]
     },
     "metadata": {},
     "output_type": "display_data"
    }
   ],
   "source": [
    "nx.draw(g, with_labels=True)"
   ]
  },
  {
   "cell_type": "code",
   "execution_count": 7,
   "metadata": {},
   "outputs": [
    {
     "data": {
      "text/plain": [
       "{1: [2, 3],\n",
       " 2: [1, 3, 4, 5],\n",
       " 3: [1, 2, 5, 6],\n",
       " 4: [2, 7, 8, 5],\n",
       " 5: [2, 3, 4, 6],\n",
       " 6: [3, 5, 7, 9],\n",
       " 7: [4, 6, 8, 9],\n",
       " 8: [4, 7, 9, 10],\n",
       " 9: [6, 7, 8, 10],\n",
       " 10: [8, 9]}"
      ]
     },
     "execution_count": 7,
     "metadata": {},
     "output_type": "execute_result"
    }
   ],
   "source": [
    "neighbors = {i:[j for j in g[i]] for i in g.nodes}\n",
    "neighbors"
   ]
  },
  {
   "cell_type": "code",
   "execution_count": 8,
   "metadata": {},
   "outputs": [],
   "source": [
    "risk_weights = {f'({i}, {j})':k for i,j,k in zip(data['端点1'], data['端点2'], data['风险值'])}\n",
    "risk_weights.update({f'({j}, {i})':k for i,j,k in zip(data['端点1'], data['端点2'], data['风险值'])})"
   ]
  },
  {
   "cell_type": "code",
   "execution_count": 9,
   "metadata": {},
   "outputs": [],
   "source": [
    "time_weights = {f'({i}, {j})':k for i,j,k in zip(data['端点1'], data['端点2'], data['阻抗值'])}\n",
    "time_weights.update({f'({j}, {i})':k for i,j,k in zip(data['端点1'], data['端点2'], data['阻抗值'])})"
   ]
  },
  {
   "cell_type": "code",
   "execution_count": 10,
   "metadata": {},
   "outputs": [],
   "source": [
    "class MyProblem(ea.Problem): # 继承Problem父类\n",
    "    def __init__(self):\n",
    "        name = 'Shortest_Path' # 初始化name（函数名称，可以随意设置）\n",
    "        M = 3 # 初始化M（目标维数）\n",
    "        maxormins = [1] * M # 初始化maxormins（目标最小最大化标记列表，1：最小化该目标；-1：最大化该目标）\n",
    "        Dim = 10 # 初始化Dim（决策变量维数）\n",
    "        varTypes = [1] * Dim # 初始化varTypes（决策变量的类型，元素为0表示对应的变量是连续的；1表示是离散的）\n",
    "        lb = [1] * Dim # 决策变量下界\n",
    "        ub = [10] * Dim # 决策变量上界\n",
    "        lbin = [1] * Dim # 决策变量下边界\n",
    "        ubin = [1] * Dim # 决策变量上边界\n",
    "        # 调用父类构造方法完成实例化\n",
    "        ea.Problem.__init__(self, name, M, maxormins, Dim, varTypes, lb, ub, lbin, ubin)\n",
    "        # 设置每一个结点下一步可达的结点（结点从1开始数，因此列表nodes的第0号元素设为空列表表示无意义）\n",
    "        self.neighbors = neighbors\n",
    "        # 设置有向图中各条边的权重\n",
    "        self.risk_weights = risk_weights\n",
    "        self.time_weights = time_weights\n",
    "    \n",
    "    def decode(self, priority): # 将优先级编码的染色体解码得到一条从节点1到节点10的可行路径\n",
    "        edges = [] # 存储边\n",
    "        path = [1] # 结点1是路径起点\n",
    "        new_neighbors = copy.deepcopy(self.neighbors)\n",
    "        while not path[-1] == 10: # 开始从起点走到终点\n",
    "            currentNode = path[-1] # 得到当前所在的结点编号\n",
    "            nextNodes = new_neighbors[currentNode] # 获取下一步可达的结点组成的列表\n",
    "            if nextNodes:\n",
    "                chooseNode = nextNodes[np.argmax(priority[np.array(nextNodes) - 1])] # 从NextNodes中选择优先级更高的结点作为下一步要访问的结点，因为结点从1数起，而下标从0数起，因此要减去1\n",
    "                path.append(chooseNode)\n",
    "                edges.append((currentNode, chooseNode))\n",
    "                for k,v in new_neighbors.items():\n",
    "                    # 此处移除已经走过的点，注意到未移除遍历过的k，没有必要\n",
    "                    if chooseNode in v:\n",
    "                        v.remove(chooseNode)\n",
    "                        new_neighbors[k] = v\n",
    "            else:\n",
    "                break\n",
    "        return path, edges\n",
    "\n",
    "    def aimFunc(self, pop): # 目标函数\n",
    "        f1_objv, f2_objv, f3_objv = np.zeros((pop.sizes, 1)), np.zeros((pop.sizes, 1)), np.zeros((pop.sizes, 1)) # 初始化ObjV\n",
    "        cv = np.zeros((pop.sizes, 1))\n",
    "        for i in range(pop.sizes): # 遍历种群的每个个体，分别计算各个个体的目标函数值\n",
    "            priority = pop.Phen[i, :]\n",
    "            path, edges = self.decode(priority) # 将优先级编码的染色体解码得到访问路径及经过的边\n",
    "            risk_value, time_value, link_risk = 0, 0, [10, 0]\n",
    "            for edge in edges:\n",
    "                key = str(edge) # 根据路径得到键值，以便根据键值找到路径对应的长度\n",
    "#                 if not key in self.weights:\n",
    "#                     raise RuntimeError(\"Error in aimFunc: The path is invalid. (当前路径是无效的。)\", path)\n",
    "                now_risk = self.risk_weights[key]\n",
    "                risk_value += now_risk # 将该段风险值加入\n",
    "                time_value += self.time_weights[key] # 将该段阻抗值加入\n",
    "                if now_risk < link_risk[0]:\n",
    "                    link_risk[0] = now_risk\n",
    "                if now_risk > link_risk[1]:\n",
    "                    link_risk[1] = now_risk\n",
    "            f1_objv[i] = risk_value # 计算目标函数值\n",
    "            f2_objv[i] = time_value\n",
    "            f3_objv[i] = link_risk[1] - link_risk[0]\n",
    "            if path[-1] != 10:\n",
    "                cv[i] = 10000\n",
    "        pop.CV = cv\n",
    "        pop.ObjV = np.hstack([f1_objv, f2_objv, f3_objv])  # 把求得的目标函数值赋值给种群pop的ObjV"
   ]
  },
  {
   "cell_type": "code",
   "execution_count": 11,
   "metadata": {},
   "outputs": [
    {
     "data": {
      "image/png": "[encoded data removed]",
      "text/plain": [
       "<Figure size 504x331.2 with 1 Axes>"
      ]
     },
     "metadata": {
      "needs_background": "light"
     },
     "output_type": "display_data"
    },
    {
     "name": "stdout",
     "output_type": "stream",
     "text": [
      "种群信息导出完毕。\n",
      "用时：1.9185597896575928 秒\n",
      "非支配个体数：45 个\n"
     ]
    }
   ],
   "source": [
    "\n",
    "if __name__ == '__main__':\n",
    "    \"\"\"===============================实例化问题对象============================\"\"\"\n",
    "    problem = MyProblem()  # 生成问题对象\n",
    "    \"\"\"==================================种群设置===============================\"\"\"\n",
    "    Encoding = 'P'  # 编码方式\n",
    "    NIND = 50  # 种群规模\n",
    "    Field = ea.crtfld(Encoding, problem.varTypes, problem.ranges, problem.borders)  # 创建区域描述器\n",
    "    population = ea.Population(Encoding, Field, NIND)  # 实例化种群对象（此时种群还没被初始化，仅仅是完成种群对象的实例化）\n",
    "    \"\"\"================================算法参数设置=============================\"\"\"\n",
    "    myAlgorithm = ea.moea_NSGA3_templet(problem, population)  # 实例化一个算法模板对象\n",
    "    myAlgorithm.mutOper.Pm = 0.2  # 修改变异算子的变异概率\n",
    "    myAlgorithm.recOper.XOVR = 0.9  # 修改交叉算子的交叉概率\n",
    "    myAlgorithm.MAXGEN = 200  # 最大进化代数\n",
    "    myAlgorithm.logTras = 0  # 设置每多少代记录日志，若设置成0则表示不记录日志\n",
    "    myAlgorithm.verbose = False  # 设置是否打印输出日志信息\n",
    "    myAlgorithm.drawing = 1  # 设置绘图方式（0：不绘图；1：绘制结果图；2：绘制目标空间过程动画；3：绘制决策空间过程动画）\n",
    "    \"\"\"==========================调用算法模板进行种群进化=========================\n",
    "    调用run执行算法模板，得到帕累托最优解集NDSet以及最后一代种群。NDSet是一个种群类Population的对象。\n",
    "    NDSet.ObjV为最优解个体的目标函数值；NDSet.Phen为对应的决策变量值。\n",
    "    详见Population.py中关于种群类的定义。\n",
    "    \"\"\"\n",
    "    [NDSet, population] = myAlgorithm.run()  # 执行算法模板，得到非支配种群以及最后一代种群\n",
    "    NDSet.save()  # 把非支配种群的信息保存到文件中\n",
    "    \"\"\"==================================输出结果==============================\"\"\"\n",
    "    print('用时：%s 秒' % myAlgorithm.passTime)\n",
    "    print('非支配个体数：%d 个' % NDSet.sizes) if NDSet.sizes != 0 else print('没有找到可行解！')"
   ]
  },
  {
   "cell_type": "code",
   "execution_count": 53,
   "metadata": {},
   "outputs": [
    {
     "name": "stdout",
     "output_type": "stream",
     "text": [
      "[1, 3, 2, 4, 8, 10]\n"
     ]
    },
    {
     "data": {
      "text/plain": [
       "array([ 29., 114.,   3.])"
      ]
     },
     "execution_count": 53,
     "metadata": {},
     "output_type": "execute_result"
    }
   ],
   "source": [
    "id_ = 3\n",
    "best_journey, edges = problem.decode(NDSet.Phen[id_])\n",
    "print(best_journey)\n",
    "NDSet.ObjV[id_]"
   ]
  },
  {
   "cell_type": "code",
   "execution_count": 12,
   "metadata": {},
   "outputs": [],
   "source": [
    "best_ls = []\n",
    "for i in range(45):\n",
    "    best_journey, edges = problem.decode(NDSet.Phen[i])\n",
    "    if best_journey not in best_ls:\n",
    "        best_ls.append(best_journey)"
   ]
  },
  {
   "cell_type": "code",
   "execution_count": 13,
   "metadata": {},
   "outputs": [
    {
     "data": {
      "text/plain": [
       "[[1, 3, 2, 4, 8, 10],\n",
       " [1, 3, 6, 9, 10],\n",
       " [1, 3, 6, 9, 8, 10],\n",
       " [1, 2, 4, 7, 8, 10],\n",
       " [1, 3, 2, 4, 7, 8, 10]]"
      ]
     },
     "execution_count": 13,
     "metadata": {},
     "output_type": "execute_result"
    }
   ],
   "source": [
    "best_ls"
   ]
  },
  {
   "cell_type": "code",
   "execution_count": null,
   "metadata": {},
   "outputs": [],
   "source": []
  }
 ],
 "metadata": {
  "kernelspec": {
   "display_name": "Python 3",
   "language": "python",
   "name": "python3"
  },
  "language_info": {
   "codemirror_mode": {
    "name": "ipython",
    "version": 3
   },
   "file_extension": ".py",
   "mimetype": "text/x-python",
   "name": "python",
   "nbconvert_exporter": "python",
   "pygments_lexer": "ipython3",
   "version": "3.7.3"
  }
 },
 "nbformat": 4,
 "nbformat_minor": 2
}
